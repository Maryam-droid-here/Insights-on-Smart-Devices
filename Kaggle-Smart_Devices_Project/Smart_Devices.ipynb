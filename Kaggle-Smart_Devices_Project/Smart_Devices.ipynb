{
 "cells": [
  {
   "cell_type": "markdown",
   "id": "71600004",
   "metadata": {},
   "source": [
    "<span style=\"font-size:20px; font-weight: 500\"><u>IMPORT LIBRARIES</u></span>"
   ]
  },
  {
   "cell_type": "code",
   "execution_count": 1,
   "id": "63de555c",
   "metadata": {},
   "outputs": [],
   "source": [
    "import pandas as pd\n",
    "import matplotlib.pyplot as plt\n",
    "import seaborn as sns"
   ]
  },
  {
   "cell_type": "markdown",
   "id": "2a2a85ae",
   "metadata": {},
   "source": [
    "<span style=\"font-size:20px; font-weight: 500\"><u>IMPORT DATASET</u></span>"
   ]
  },
  {
   "cell_type": "code",
   "execution_count": 2,
   "id": "5e05e7db",
   "metadata": {},
   "outputs": [
    {
     "name": "stderr",
     "output_type": "stream",
     "text": [
      "C:\\Users\\PMLS\\AppData\\Local\\Temp\\ipykernel_14052\\4255249408.py:1: DtypeWarning: Columns (2,24,36,37,41,44,56,60,68,70,72,73,78,79,80,82,85,88,91,96,98,99,100,101,102,103,104,111,112,115,116,117,121,124,126,130,131,137,138,143,147,151,153,154,157,158,159,160,161,162,163,164,166,167,168,169,170,171,172,173,174,175,177,178,181,182,183,184,185,186,187,188,192,193,195,196,197,198,199,200,201,202,203,207,208,209,212,213,214,215,216,217,219,221,222,226,227,228,229,230,231,232,233,234,235,236,237,238,239,241,242,243,244,246,247,248,249,250,251,252,253,255,256,257,258,259,260,261,262,263,264,265,266,267,268,269,270) have mixed types. Specify dtype option on import or set low_memory=False.\n",
      "  data = pd.read_csv(r\"D:\\MARYAM\\DataScience\\Kaggle-Smart_Devices\\Smart_Devices.csv\", delimiter = ';')\n"
     ]
    }
   ],
   "source": [
    "data = pd.read_csv(r\"D:\\MARYAM\\DataScience\\Kaggle-Smart_Devices\\Smart_Devices.csv\", delimiter = ';')"
   ]
  },
  {
   "cell_type": "markdown",
   "id": "667a821b",
   "metadata": {},
   "source": [
    "<span style=\"font-size:20px; font-weight: 500\"><u>EXPLORE DATASET</u></span>"
   ]
  },
  {
   "cell_type": "code",
   "execution_count": 3,
   "id": "56d2606c",
   "metadata": {},
   "outputs": [
    {
     "data": {
      "text/html": [
       "<div>\n",
       "<style scoped>\n",
       "    .dataframe tbody tr th:only-of-type {\n",
       "        vertical-align: middle;\n",
       "    }\n",
       "\n",
       "    .dataframe tbody tr th {\n",
       "        vertical-align: top;\n",
       "    }\n",
       "\n",
       "    .dataframe thead th {\n",
       "        text-align: right;\n",
       "    }\n",
       "</style>\n",
       "<table border=\"1\" class=\"dataframe\">\n",
       "  <thead>\n",
       "    <tr style=\"text-align: right;\">\n",
       "      <th></th>\n",
       "      <th>Brand</th>\n",
       "      <th>Model</th>\n",
       "      <th>Released Year</th>\n",
       "      <th>Released Announced</th>\n",
       "      <th>Hardware Designer</th>\n",
       "      <th>Manufacturer</th>\n",
       "      <th>Codename</th>\n",
       "      <th>General Extras</th>\n",
       "      <th>Device Category</th>\n",
       "      <th>Width</th>\n",
       "      <th>...</th>\n",
       "      <th>USB4 Services:</th>\n",
       "      <th>USB4 connector:</th>\n",
       "      <th>Modem:</th>\n",
       "      <th>Modem Connector:</th>\n",
       "      <th>Faxmodem:</th>\n",
       "      <th>Hard Disk Capacity</th>\n",
       "      <th>Wireless MAN</th>\n",
       "      <th>Secondary Keyboard</th>\n",
       "      <th>Secondary Keyboard Backlight:</th>\n",
       "      <th>Number of secondary keys:</th>\n",
       "    </tr>\n",
       "  </thead>\n",
       "  <tbody>\n",
       "    <tr>\n",
       "      <th>0</th>\n",
       "      <td>Google</td>\n",
       "      <td>Pixel 9a 5G TD-LTE US 256GB GXQ96</td>\n",
       "      <td>2025.0</td>\n",
       "      <td>2025 Mar 19</td>\n",
       "      <td>Google</td>\n",
       "      <td>Foxconn</td>\n",
       "      <td>Google Tegu</td>\n",
       "      <td>Haptic touch feedback</td>\n",
       "      <td>Smartphone</td>\n",
       "      <td>73.3 mm</td>\n",
       "      <td>...</td>\n",
       "      <td>NaN</td>\n",
       "      <td>NaN</td>\n",
       "      <td>NaN</td>\n",
       "      <td>NaN</td>\n",
       "      <td>NaN</td>\n",
       "      <td>NaN</td>\n",
       "      <td>NaN</td>\n",
       "      <td>NaN</td>\n",
       "      <td>NaN</td>\n",
       "      <td>NaN</td>\n",
       "    </tr>\n",
       "    <tr>\n",
       "      <th>1</th>\n",
       "      <td>Google</td>\n",
       "      <td>Pixel 9a 5G Global TD-LTE 256GB GTF7P</td>\n",
       "      <td>2025.0</td>\n",
       "      <td>2025 Mar 19</td>\n",
       "      <td>Google</td>\n",
       "      <td>Foxconn</td>\n",
       "      <td>Google Tegu</td>\n",
       "      <td>Haptic touch feedback</td>\n",
       "      <td>Smartphone</td>\n",
       "      <td>73.3 mm</td>\n",
       "      <td>...</td>\n",
       "      <td>NaN</td>\n",
       "      <td>NaN</td>\n",
       "      <td>NaN</td>\n",
       "      <td>NaN</td>\n",
       "      <td>NaN</td>\n",
       "      <td>NaN</td>\n",
       "      <td>NaN</td>\n",
       "      <td>NaN</td>\n",
       "      <td>NaN</td>\n",
       "      <td>NaN</td>\n",
       "    </tr>\n",
       "    <tr>\n",
       "      <th>2</th>\n",
       "      <td>Google</td>\n",
       "      <td>Pixel 9a 5G TD-LTE 256GB JP G3Y12</td>\n",
       "      <td>2025.0</td>\n",
       "      <td>2025 Mar 19</td>\n",
       "      <td>Google</td>\n",
       "      <td>Foxconn</td>\n",
       "      <td>Google Tegu</td>\n",
       "      <td>Haptic touch feedback</td>\n",
       "      <td>Smartphone</td>\n",
       "      <td>73.3 mm</td>\n",
       "      <td>...</td>\n",
       "      <td>NaN</td>\n",
       "      <td>NaN</td>\n",
       "      <td>NaN</td>\n",
       "      <td>NaN</td>\n",
       "      <td>NaN</td>\n",
       "      <td>NaN</td>\n",
       "      <td>NaN</td>\n",
       "      <td>NaN</td>\n",
       "      <td>NaN</td>\n",
       "      <td>NaN</td>\n",
       "    </tr>\n",
       "    <tr>\n",
       "      <th>3</th>\n",
       "      <td>Google</td>\n",
       "      <td>Pixel 9a 5G TD-LTE US 128GB GXQ96</td>\n",
       "      <td>2025.0</td>\n",
       "      <td>2025 Mar 19</td>\n",
       "      <td>Google</td>\n",
       "      <td>Foxconn</td>\n",
       "      <td>Google Tegu</td>\n",
       "      <td>Haptic touch feedback</td>\n",
       "      <td>Smartphone</td>\n",
       "      <td>73.3 mm</td>\n",
       "      <td>...</td>\n",
       "      <td>NaN</td>\n",
       "      <td>NaN</td>\n",
       "      <td>NaN</td>\n",
       "      <td>NaN</td>\n",
       "      <td>NaN</td>\n",
       "      <td>NaN</td>\n",
       "      <td>NaN</td>\n",
       "      <td>NaN</td>\n",
       "      <td>NaN</td>\n",
       "      <td>NaN</td>\n",
       "    </tr>\n",
       "    <tr>\n",
       "      <th>4</th>\n",
       "      <td>Google</td>\n",
       "      <td>Pixel 9a 5G TD-LTE 128GB JP G3Y12</td>\n",
       "      <td>2025.0</td>\n",
       "      <td>2025 Mar 19</td>\n",
       "      <td>Google</td>\n",
       "      <td>Foxconn</td>\n",
       "      <td>Google Tegu</td>\n",
       "      <td>Haptic touch feedback</td>\n",
       "      <td>Smartphone</td>\n",
       "      <td>73.3 mm</td>\n",
       "      <td>...</td>\n",
       "      <td>NaN</td>\n",
       "      <td>NaN</td>\n",
       "      <td>NaN</td>\n",
       "      <td>NaN</td>\n",
       "      <td>NaN</td>\n",
       "      <td>NaN</td>\n",
       "      <td>NaN</td>\n",
       "      <td>NaN</td>\n",
       "      <td>NaN</td>\n",
       "      <td>NaN</td>\n",
       "    </tr>\n",
       "    <tr>\n",
       "      <th>5</th>\n",
       "      <td>Google</td>\n",
       "      <td>Pixel 8a 5G UW TD-LTE US 256GB G8HHN</td>\n",
       "      <td>2024.0</td>\n",
       "      <td>2024 May 7</td>\n",
       "      <td>Google</td>\n",
       "      <td>Foxconn</td>\n",
       "      <td>Google Akita</td>\n",
       "      <td>Haptic touch feedback</td>\n",
       "      <td>Smartphone</td>\n",
       "      <td>72.7 mm</td>\n",
       "      <td>...</td>\n",
       "      <td>NaN</td>\n",
       "      <td>NaN</td>\n",
       "      <td>NaN</td>\n",
       "      <td>NaN</td>\n",
       "      <td>NaN</td>\n",
       "      <td>NaN</td>\n",
       "      <td>NaN</td>\n",
       "      <td>NaN</td>\n",
       "      <td>NaN</td>\n",
       "      <td>NaN</td>\n",
       "    </tr>\n",
       "    <tr>\n",
       "      <th>6</th>\n",
       "      <td>Google</td>\n",
       "      <td>Pixel 8a 5G TD-LTE NA 256GB GKV4X</td>\n",
       "      <td>2024.0</td>\n",
       "      <td>2024 May 7</td>\n",
       "      <td>Google</td>\n",
       "      <td>Foxconn</td>\n",
       "      <td>Google Akita</td>\n",
       "      <td>Haptic touch feedback</td>\n",
       "      <td>Smartphone</td>\n",
       "      <td>72.7 mm</td>\n",
       "      <td>...</td>\n",
       "      <td>NaN</td>\n",
       "      <td>NaN</td>\n",
       "      <td>NaN</td>\n",
       "      <td>NaN</td>\n",
       "      <td>NaN</td>\n",
       "      <td>NaN</td>\n",
       "      <td>NaN</td>\n",
       "      <td>NaN</td>\n",
       "      <td>NaN</td>\n",
       "      <td>NaN</td>\n",
       "    </tr>\n",
       "    <tr>\n",
       "      <th>7</th>\n",
       "      <td>Google</td>\n",
       "      <td>Pixel 8a 5G Global TD-LTE 256GB G6GPR</td>\n",
       "      <td>2024.0</td>\n",
       "      <td>2024 May 7</td>\n",
       "      <td>Google</td>\n",
       "      <td>Foxconn</td>\n",
       "      <td>Google Akita</td>\n",
       "      <td>Haptic touch feedback</td>\n",
       "      <td>Smartphone</td>\n",
       "      <td>72.7 mm</td>\n",
       "      <td>...</td>\n",
       "      <td>NaN</td>\n",
       "      <td>NaN</td>\n",
       "      <td>NaN</td>\n",
       "      <td>NaN</td>\n",
       "      <td>NaN</td>\n",
       "      <td>NaN</td>\n",
       "      <td>NaN</td>\n",
       "      <td>NaN</td>\n",
       "      <td>NaN</td>\n",
       "      <td>NaN</td>\n",
       "    </tr>\n",
       "    <tr>\n",
       "      <th>8</th>\n",
       "      <td>Google</td>\n",
       "      <td>Pixel 8a 5G UW TD-LTE US 128GB G8HHN</td>\n",
       "      <td>2024.0</td>\n",
       "      <td>2024 May 7</td>\n",
       "      <td>Google</td>\n",
       "      <td>Foxconn</td>\n",
       "      <td>Google Akita</td>\n",
       "      <td>Haptic touch feedback</td>\n",
       "      <td>Smartphone</td>\n",
       "      <td>72.7 mm</td>\n",
       "      <td>...</td>\n",
       "      <td>NaN</td>\n",
       "      <td>NaN</td>\n",
       "      <td>NaN</td>\n",
       "      <td>NaN</td>\n",
       "      <td>NaN</td>\n",
       "      <td>NaN</td>\n",
       "      <td>NaN</td>\n",
       "      <td>NaN</td>\n",
       "      <td>NaN</td>\n",
       "      <td>NaN</td>\n",
       "    </tr>\n",
       "    <tr>\n",
       "      <th>9</th>\n",
       "      <td>Google</td>\n",
       "      <td>Pixel 8a 5G TD-LTE JP 128GB G576D</td>\n",
       "      <td>2024.0</td>\n",
       "      <td>2024 May 7</td>\n",
       "      <td>Google</td>\n",
       "      <td>Foxconn</td>\n",
       "      <td>Google Akita</td>\n",
       "      <td>Haptic touch feedback</td>\n",
       "      <td>Smartphone</td>\n",
       "      <td>72.7 mm</td>\n",
       "      <td>...</td>\n",
       "      <td>NaN</td>\n",
       "      <td>NaN</td>\n",
       "      <td>NaN</td>\n",
       "      <td>NaN</td>\n",
       "      <td>NaN</td>\n",
       "      <td>NaN</td>\n",
       "      <td>NaN</td>\n",
       "      <td>NaN</td>\n",
       "      <td>NaN</td>\n",
       "      <td>NaN</td>\n",
       "    </tr>\n",
       "  </tbody>\n",
       "</table>\n",
       "<p>10 rows × 272 columns</p>\n",
       "</div>"
      ],
      "text/plain": [
       "    Brand                                  Model Released Year  \\\n",
       "0  Google      Pixel 9a 5G TD-LTE US 256GB GXQ96        2025.0   \n",
       "1  Google  Pixel 9a 5G Global TD-LTE 256GB GTF7P        2025.0   \n",
       "2  Google      Pixel 9a 5G TD-LTE 256GB JP G3Y12        2025.0   \n",
       "3  Google      Pixel 9a 5G TD-LTE US 128GB GXQ96        2025.0   \n",
       "4  Google      Pixel 9a 5G TD-LTE 128GB JP G3Y12        2025.0   \n",
       "5  Google   Pixel 8a 5G UW TD-LTE US 256GB G8HHN        2024.0   \n",
       "6  Google      Pixel 8a 5G TD-LTE NA 256GB GKV4X        2024.0   \n",
       "7  Google  Pixel 8a 5G Global TD-LTE 256GB G6GPR        2024.0   \n",
       "8  Google   Pixel 8a 5G UW TD-LTE US 128GB G8HHN        2024.0   \n",
       "9  Google      Pixel 8a 5G TD-LTE JP 128GB G576D        2024.0   \n",
       "\n",
       "  Released Announced Hardware Designer Manufacturer      Codename  \\\n",
       "0        2025 Mar 19            Google      Foxconn   Google Tegu   \n",
       "1        2025 Mar 19            Google      Foxconn   Google Tegu   \n",
       "2        2025 Mar 19            Google      Foxconn   Google Tegu   \n",
       "3        2025 Mar 19            Google      Foxconn   Google Tegu   \n",
       "4        2025 Mar 19            Google      Foxconn   Google Tegu   \n",
       "5         2024 May 7            Google      Foxconn  Google Akita   \n",
       "6         2024 May 7            Google      Foxconn  Google Akita   \n",
       "7         2024 May 7            Google      Foxconn  Google Akita   \n",
       "8         2024 May 7            Google      Foxconn  Google Akita   \n",
       "9         2024 May 7            Google      Foxconn  Google Akita   \n",
       "\n",
       "          General Extras Device Category    Width  ... USB4 Services:  \\\n",
       "0  Haptic touch feedback      Smartphone  73.3 mm  ...            NaN   \n",
       "1  Haptic touch feedback      Smartphone  73.3 mm  ...            NaN   \n",
       "2  Haptic touch feedback      Smartphone  73.3 mm  ...            NaN   \n",
       "3  Haptic touch feedback      Smartphone  73.3 mm  ...            NaN   \n",
       "4  Haptic touch feedback      Smartphone  73.3 mm  ...            NaN   \n",
       "5  Haptic touch feedback      Smartphone  72.7 mm  ...            NaN   \n",
       "6  Haptic touch feedback      Smartphone  72.7 mm  ...            NaN   \n",
       "7  Haptic touch feedback      Smartphone  72.7 mm  ...            NaN   \n",
       "8  Haptic touch feedback      Smartphone  72.7 mm  ...            NaN   \n",
       "9  Haptic touch feedback      Smartphone  72.7 mm  ...            NaN   \n",
       "\n",
       "  USB4 connector: Modem: Modem Connector: Faxmodem: Hard Disk Capacity  \\\n",
       "0             NaN    NaN              NaN       NaN                NaN   \n",
       "1             NaN    NaN              NaN       NaN                NaN   \n",
       "2             NaN    NaN              NaN       NaN                NaN   \n",
       "3             NaN    NaN              NaN       NaN                NaN   \n",
       "4             NaN    NaN              NaN       NaN                NaN   \n",
       "5             NaN    NaN              NaN       NaN                NaN   \n",
       "6             NaN    NaN              NaN       NaN                NaN   \n",
       "7             NaN    NaN              NaN       NaN                NaN   \n",
       "8             NaN    NaN              NaN       NaN                NaN   \n",
       "9             NaN    NaN              NaN       NaN                NaN   \n",
       "\n",
       "  Wireless MAN Secondary Keyboard Secondary Keyboard Backlight:  \\\n",
       "0          NaN                NaN                           NaN   \n",
       "1          NaN                NaN                           NaN   \n",
       "2          NaN                NaN                           NaN   \n",
       "3          NaN                NaN                           NaN   \n",
       "4          NaN                NaN                           NaN   \n",
       "5          NaN                NaN                           NaN   \n",
       "6          NaN                NaN                           NaN   \n",
       "7          NaN                NaN                           NaN   \n",
       "8          NaN                NaN                           NaN   \n",
       "9          NaN                NaN                           NaN   \n",
       "\n",
       "  Number of secondary keys:  \n",
       "0                       NaN  \n",
       "1                       NaN  \n",
       "2                       NaN  \n",
       "3                       NaN  \n",
       "4                       NaN  \n",
       "5                       NaN  \n",
       "6                       NaN  \n",
       "7                       NaN  \n",
       "8                       NaN  \n",
       "9                       NaN  \n",
       "\n",
       "[10 rows x 272 columns]"
      ]
     },
     "execution_count": 3,
     "metadata": {},
     "output_type": "execute_result"
    }
   ],
   "source": [
    "data.head(10)"
   ]
  },
  {
   "cell_type": "code",
   "execution_count": 4,
   "id": "b7c0d734",
   "metadata": {},
   "outputs": [
    {
     "data": {
      "text/plain": [
       "(24786, 272)"
      ]
     },
     "execution_count": 4,
     "metadata": {},
     "output_type": "execute_result"
    }
   ],
   "source": [
    "data.shape"
   ]
  },
  {
   "cell_type": "code",
   "execution_count": 5,
   "id": "68007f26",
   "metadata": {},
   "outputs": [
    {
     "data": {
      "text/plain": [
       "Index(['Brand', 'Model', 'Released Year', 'Released Announced',\n",
       "       'Hardware Designer', 'Manufacturer', 'Codename', 'General Extras',\n",
       "       'Device Category', 'Width',\n",
       "       ...\n",
       "       'USB4 Services:', 'USB4 connector:', 'Modem:', 'Modem Connector:',\n",
       "       'Faxmodem:', 'Hard Disk Capacity', 'Wireless MAN', 'Secondary Keyboard',\n",
       "       'Secondary Keyboard Backlight:', 'Number of secondary keys:'],\n",
       "      dtype='object', length=272)"
      ]
     },
     "execution_count": 5,
     "metadata": {},
     "output_type": "execute_result"
    }
   ],
   "source": [
    "data.columns"
   ]
  },
  {
   "cell_type": "code",
   "execution_count": 6,
   "id": "0636bc84",
   "metadata": {},
   "outputs": [
    {
     "data": {
      "text/html": [
       "<div>\n",
       "<style scoped>\n",
       "    .dataframe tbody tr th:only-of-type {\n",
       "        vertical-align: middle;\n",
       "    }\n",
       "\n",
       "    .dataframe tbody tr th {\n",
       "        vertical-align: top;\n",
       "    }\n",
       "\n",
       "    .dataframe thead th {\n",
       "        text-align: right;\n",
       "    }\n",
       "</style>\n",
       "<table border=\"1\" class=\"dataframe\">\n",
       "  <thead>\n",
       "    <tr style=\"text-align: right;\">\n",
       "      <th></th>\n",
       "      <th>Number of keys</th>\n",
       "      <th>Parallel GPS Channels</th>\n",
       "      <th>Number of secondary keys:</th>\n",
       "    </tr>\n",
       "  </thead>\n",
       "  <tbody>\n",
       "    <tr>\n",
       "      <th>count</th>\n",
       "      <td>1679.000000</td>\n",
       "      <td>321.000000</td>\n",
       "      <td>56.000000</td>\n",
       "    </tr>\n",
       "    <tr>\n",
       "      <th>mean</th>\n",
       "      <td>37.908279</td>\n",
       "      <td>20.691589</td>\n",
       "      <td>19.303571</td>\n",
       "    </tr>\n",
       "    <tr>\n",
       "      <th>std</th>\n",
       "      <td>20.017749</td>\n",
       "      <td>8.310097</td>\n",
       "      <td>5.274017</td>\n",
       "    </tr>\n",
       "    <tr>\n",
       "      <th>min</th>\n",
       "      <td>1.000000</td>\n",
       "      <td>5.000000</td>\n",
       "      <td>10.000000</td>\n",
       "    </tr>\n",
       "    <tr>\n",
       "      <th>25%</th>\n",
       "      <td>20.000000</td>\n",
       "      <td>20.000000</td>\n",
       "      <td>16.000000</td>\n",
       "    </tr>\n",
       "    <tr>\n",
       "      <th>50%</th>\n",
       "      <td>38.000000</td>\n",
       "      <td>20.000000</td>\n",
       "      <td>18.000000</td>\n",
       "    </tr>\n",
       "    <tr>\n",
       "      <th>75%</th>\n",
       "      <td>46.000000</td>\n",
       "      <td>20.000000</td>\n",
       "      <td>20.000000</td>\n",
       "    </tr>\n",
       "    <tr>\n",
       "      <th>max</th>\n",
       "      <td>104.000000</td>\n",
       "      <td>64.000000</td>\n",
       "      <td>34.000000</td>\n",
       "    </tr>\n",
       "  </tbody>\n",
       "</table>\n",
       "</div>"
      ],
      "text/plain": [
       "       Number of keys  Parallel GPS Channels  Number of secondary keys:\n",
       "count     1679.000000             321.000000                  56.000000\n",
       "mean        37.908279              20.691589                  19.303571\n",
       "std         20.017749               8.310097                   5.274017\n",
       "min          1.000000               5.000000                  10.000000\n",
       "25%         20.000000              20.000000                  16.000000\n",
       "50%         38.000000              20.000000                  18.000000\n",
       "75%         46.000000              20.000000                  20.000000\n",
       "max        104.000000              64.000000                  34.000000"
      ]
     },
     "execution_count": 6,
     "metadata": {},
     "output_type": "execute_result"
    }
   ],
   "source": [
    "data.describe()"
   ]
  },
  {
   "cell_type": "code",
   "execution_count": 7,
   "id": "775f6358",
   "metadata": {},
   "outputs": [
    {
     "name": "stdout",
     "output_type": "stream",
     "text": [
      "<class 'pandas.core.frame.DataFrame'>\n",
      "RangeIndex: 24786 entries, 0 to 24785\n",
      "Columns: 272 entries, Brand to Number of secondary keys:\n",
      "dtypes: float64(3), object(269)\n",
      "memory usage: 51.4+ MB\n"
     ]
    }
   ],
   "source": [
    "data.info()"
   ]
  },
  {
   "cell_type": "code",
   "execution_count": 8,
   "id": "cee9aeae",
   "metadata": {},
   "outputs": [
    {
     "data": {
      "text/plain": [
       "Brand                             object\n",
       "Model                             object\n",
       "Released Year                     object\n",
       "Released Announced                object\n",
       "Hardware Designer                 object\n",
       "                                  ...   \n",
       "Hard Disk Capacity                object\n",
       "Wireless MAN                      object\n",
       "Secondary Keyboard                object\n",
       "Secondary Keyboard Backlight:     object\n",
       "Number of secondary keys:        float64\n",
       "Length: 272, dtype: object"
      ]
     },
     "execution_count": 8,
     "metadata": {},
     "output_type": "execute_result"
    }
   ],
   "source": [
    "data.dtypes"
   ]
  },
  {
   "cell_type": "code",
   "execution_count": 9,
   "id": "57f6b1b2",
   "metadata": {},
   "outputs": [
    {
     "data": {
      "text/plain": [
       "Brand                            True\n",
       "Model                            True\n",
       "Released Year                    True\n",
       "Released Announced               True\n",
       "Hardware Designer                True\n",
       "                                 ... \n",
       "Hard Disk Capacity               True\n",
       "Wireless MAN                     True\n",
       "Secondary Keyboard               True\n",
       "Secondary Keyboard Backlight:    True\n",
       "Number of secondary keys:        True\n",
       "Length: 272, dtype: bool"
      ]
     },
     "execution_count": 9,
     "metadata": {},
     "output_type": "execute_result"
    }
   ],
   "source": [
    "data.isna().any()"
   ]
  },
  {
   "cell_type": "code",
   "execution_count": 10,
   "id": "006cf713",
   "metadata": {},
   "outputs": [
    {
     "data": {
      "text/plain": [
       "Brand                            0.000040\n",
       "Model                            0.000040\n",
       "Released Year                    0.000282\n",
       "Released Announced               0.462156\n",
       "Hardware Designer                0.081982\n",
       "                                   ...   \n",
       "Hard Disk Capacity               0.998628\n",
       "Wireless MAN                     0.998588\n",
       "Secondary Keyboard               0.997781\n",
       "Secondary Keyboard Backlight:    0.997983\n",
       "Number of secondary keys:        0.997741\n",
       "Length: 272, dtype: float64"
      ]
     },
     "execution_count": 10,
     "metadata": {},
     "output_type": "execute_result"
    }
   ],
   "source": [
    "data.isna().sum() / data.shape[0]"
   ]
  },
  {
   "cell_type": "code",
   "execution_count": 11,
   "id": "9c83481e",
   "metadata": {},
   "outputs": [
    {
     "data": {
      "text/plain": [
       "Brand                                1\n",
       "Model                                1\n",
       "Released Year                        7\n",
       "Released Announced               11455\n",
       "Hardware Designer                 2032\n",
       "                                 ...  \n",
       "Hard Disk Capacity               24752\n",
       "Wireless MAN                     24751\n",
       "Secondary Keyboard               24731\n",
       "Secondary Keyboard Backlight:    24736\n",
       "Number of secondary keys:        24730\n",
       "Length: 272, dtype: int64"
      ]
     },
     "execution_count": 11,
     "metadata": {},
     "output_type": "execute_result"
    }
   ],
   "source": [
    "data.isna().sum()"
   ]
  },
  {
   "cell_type": "code",
   "execution_count": 12,
   "id": "210136e1",
   "metadata": {},
   "outputs": [
    {
     "data": {
      "text/plain": [
       "Index([], dtype='object')"
      ]
     },
     "execution_count": 12,
     "metadata": {},
     "output_type": "execute_result"
    }
   ],
   "source": [
    "data.columns[data.isnull().all()]"
   ]
  },
  {
   "cell_type": "code",
   "execution_count": 13,
   "id": "811cc027",
   "metadata": {},
   "outputs": [
    {
     "data": {
      "text/html": [
       "<div>\n",
       "<style scoped>\n",
       "    .dataframe tbody tr th:only-of-type {\n",
       "        vertical-align: middle;\n",
       "    }\n",
       "\n",
       "    .dataframe tbody tr th {\n",
       "        vertical-align: top;\n",
       "    }\n",
       "\n",
       "    .dataframe thead th {\n",
       "        text-align: right;\n",
       "    }\n",
       "</style>\n",
       "<table border=\"1\" class=\"dataframe\">\n",
       "  <thead>\n",
       "    <tr style=\"text-align: right;\">\n",
       "      <th></th>\n",
       "      <th>Brand</th>\n",
       "      <th>Model</th>\n",
       "      <th>Released Year</th>\n",
       "      <th>Released Announced</th>\n",
       "      <th>Hardware Designer</th>\n",
       "      <th>Manufacturer</th>\n",
       "      <th>Codename</th>\n",
       "      <th>General Extras</th>\n",
       "      <th>Device Category</th>\n",
       "      <th>Width</th>\n",
       "      <th>...</th>\n",
       "      <th>USB4 Services:</th>\n",
       "      <th>USB4 connector:</th>\n",
       "      <th>Modem:</th>\n",
       "      <th>Modem Connector:</th>\n",
       "      <th>Faxmodem:</th>\n",
       "      <th>Hard Disk Capacity</th>\n",
       "      <th>Wireless MAN</th>\n",
       "      <th>Secondary Keyboard</th>\n",
       "      <th>Secondary Keyboard Backlight:</th>\n",
       "      <th>Number of secondary keys:</th>\n",
       "    </tr>\n",
       "  </thead>\n",
       "  <tbody>\n",
       "    <tr>\n",
       "      <th>616</th>\n",
       "      <td>NaN</td>\n",
       "      <td>NaN</td>\n",
       "      <td>NaN</td>\n",
       "      <td>NaN</td>\n",
       "      <td>NaN</td>\n",
       "      <td>NaN</td>\n",
       "      <td>NaN</td>\n",
       "      <td>NaN</td>\n",
       "      <td>NaN</td>\n",
       "      <td>NaN</td>\n",
       "      <td>...</td>\n",
       "      <td>NaN</td>\n",
       "      <td>NaN</td>\n",
       "      <td>NaN</td>\n",
       "      <td>NaN</td>\n",
       "      <td>NaN</td>\n",
       "      <td>NaN</td>\n",
       "      <td>NaN</td>\n",
       "      <td>NaN</td>\n",
       "      <td>NaN</td>\n",
       "      <td>NaN</td>\n",
       "    </tr>\n",
       "  </tbody>\n",
       "</table>\n",
       "<p>1 rows × 272 columns</p>\n",
       "</div>"
      ],
      "text/plain": [
       "    Brand Model Released Year Released Announced Hardware Designer  \\\n",
       "616   NaN   NaN           NaN                NaN               NaN   \n",
       "\n",
       "    Manufacturer Codename General Extras Device Category Width  ...  \\\n",
       "616          NaN      NaN            NaN             NaN   NaN  ...   \n",
       "\n",
       "    USB4 Services: USB4 connector: Modem: Modem Connector: Faxmodem:  \\\n",
       "616            NaN             NaN    NaN              NaN       NaN   \n",
       "\n",
       "    Hard Disk Capacity Wireless MAN Secondary Keyboard  \\\n",
       "616                NaN          NaN                NaN   \n",
       "\n",
       "    Secondary Keyboard Backlight: Number of secondary keys:  \n",
       "616                           NaN                       NaN  \n",
       "\n",
       "[1 rows x 272 columns]"
      ]
     },
     "execution_count": 13,
     "metadata": {},
     "output_type": "execute_result"
    }
   ],
   "source": [
    "data[data.isnull().all(axis=1)]"
   ]
  },
  {
   "cell_type": "code",
   "execution_count": 14,
   "id": "220230c5",
   "metadata": {},
   "outputs": [
    {
     "data": {
      "text/html": [
       "<div>\n",
       "<style scoped>\n",
       "    .dataframe tbody tr th:only-of-type {\n",
       "        vertical-align: middle;\n",
       "    }\n",
       "\n",
       "    .dataframe tbody tr th {\n",
       "        vertical-align: top;\n",
       "    }\n",
       "\n",
       "    .dataframe thead th {\n",
       "        text-align: right;\n",
       "    }\n",
       "</style>\n",
       "<table border=\"1\" class=\"dataframe\">\n",
       "  <thead>\n",
       "    <tr style=\"text-align: right;\">\n",
       "      <th></th>\n",
       "      <th>Brand</th>\n",
       "      <th>Model</th>\n",
       "      <th>Released Year</th>\n",
       "      <th>Released Announced</th>\n",
       "      <th>Hardware Designer</th>\n",
       "      <th>Manufacturer</th>\n",
       "      <th>Codename</th>\n",
       "      <th>General Extras</th>\n",
       "      <th>Device Category</th>\n",
       "      <th>Width</th>\n",
       "      <th>...</th>\n",
       "      <th>USB4 Services:</th>\n",
       "      <th>USB4 connector:</th>\n",
       "      <th>Modem:</th>\n",
       "      <th>Modem Connector:</th>\n",
       "      <th>Faxmodem:</th>\n",
       "      <th>Hard Disk Capacity</th>\n",
       "      <th>Wireless MAN</th>\n",
       "      <th>Secondary Keyboard</th>\n",
       "      <th>Secondary Keyboard Backlight:</th>\n",
       "      <th>Number of secondary keys:</th>\n",
       "    </tr>\n",
       "  </thead>\n",
       "  <tbody>\n",
       "  </tbody>\n",
       "</table>\n",
       "<p>0 rows × 272 columns</p>\n",
       "</div>"
      ],
      "text/plain": [
       "Empty DataFrame\n",
       "Columns: [Brand, Model, Released Year, Released Announced, Hardware Designer, Manufacturer, Codename, General Extras, Device Category, Width, Height, Depth, Bounding Volume, Mass, Platform, Operating System, Software Extras, CPU Clock, CPU, RAM Type, RAM Capacity, Non-volatile Memory Type, Non-volatile Memory Interface, Non-volatile Memory Capacity, Display Hole, Display Diagonal, Resolution, Display Width, Display Height, Horizontal Full Bezel Width, Display Area, Display Area Utilization, Pixel Size, Pixel Density, Display Type, Display Color Depth, Number of Display Scales, Display Dynamic Range Depth, Display Illumination, Display Light Reflection Mode, Display Subpixel Scheme, Display Refresh Rate, Scratch Resistant Screen, Graphical Controller, GPU Clock:, A/V Out, Audio Channel(s), Microphone(s), Microphone Input, Loudspeaker(s):, Audio Output:, Supported Cellular Bands, Supported Cellular Data Links, SIM Card Slot, Cellular Antenna, Call Alert Sound, Hearing Aid Compatibility (HAC), Complementary Phone Services, Cellular Controller, SAR (head), SAR (body), Sec. Supported Cellular Networks:, Touchscreen Type, Touchscreen Simultaneous Touch Points, Expansion Interfaces, USB, USB Services, USB Connector, Max. Charging Power, Bluetooth, Bluetooth profiles, Wireless LAN, Wireless Services, NFC, FM Radio Receiver, Supported GPS protocol(s), Satellite Antenna:, Complementary Satellite Services, Supported GLONASS protocol(s), Supported Galileo service(s), Supported BeiDou system (BDS), Camera Placement, Camera Module, Camera Image Sensor, Image Sensor Format, Image Sensor Pixel Size, Camera Resolution, Number of effective pixels, Aperture (W), Zoom, Focus, Min. Equiv. Focal Length, Recordable Image Formats, Video Recording, Recordable Video Formats, Flash, Camera Extra Functions, Aux. Camera Image Sensor, Aux. Camera Module, Aux. Cam. Image Sensor Format, ...]\n",
       "Index: []\n",
       "\n",
       "[0 rows x 272 columns]"
      ]
     },
     "execution_count": 14,
     "metadata": {},
     "output_type": "execute_result"
    }
   ],
   "source": [
    "data = data.dropna(how='all')\n",
    "data[data.isnull().all(axis=1)]"
   ]
  },
  {
   "cell_type": "code",
   "execution_count": 15,
   "id": "2805dea5",
   "metadata": {},
   "outputs": [
    {
     "data": {
      "text/plain": [
       "Index([], dtype='object')"
      ]
     },
     "execution_count": 15,
     "metadata": {},
     "output_type": "execute_result"
    }
   ],
   "source": [
    "data.columns[data.isnull().all()]"
   ]
  },
  {
   "cell_type": "markdown",
   "id": "2759c0d9",
   "metadata": {},
   "source": [
    "<span style=\"font-size:20px; font-weight: 500\"><u>INSIGHTS</u></span>"
   ]
  },
  {
   "cell_type": "markdown",
   "id": "dec12029",
   "metadata": {},
   "source": [
    "<span style=\"font-size:16px; font-weight: 500\"><u>1. Devices released per year</u></span>"
   ]
  },
  {
   "cell_type": "code",
   "execution_count": 16,
   "id": "0dd2e7e0",
   "metadata": {},
   "outputs": [],
   "source": [
    "# The dataset is too large so we'll take only the columns we need at a time and clean them as per need.\n",
    "relPerYear = pd.DataFrame(data[['Released Year', 'Model']])"
   ]
  },
  {
   "cell_type": "code",
   "execution_count": 17,
   "id": "6186110f",
   "metadata": {},
   "outputs": [
    {
     "data": {
      "text/plain": [
       "np.int64(6)"
      ]
     },
     "execution_count": 17,
     "metadata": {},
     "output_type": "execute_result"
    }
   ],
   "source": [
    "relPerYear['Released Year'].isna().sum()"
   ]
  },
  {
   "cell_type": "code",
   "execution_count": 18,
   "id": "78948697",
   "metadata": {},
   "outputs": [
    {
     "data": {
      "text/plain": [
       "np.int64(0)"
      ]
     },
     "execution_count": 18,
     "metadata": {},
     "output_type": "execute_result"
    }
   ],
   "source": [
    "relPerYear = relPerYear.dropna()\n",
    "relPerYear['Released Year'].isna().sum()\n"
   ]
  },
  {
   "cell_type": "code",
   "execution_count": 19,
   "id": "9b75aa83",
   "metadata": {},
   "outputs": [
    {
     "data": {
      "text/plain": [
       "Released Year\n",
       "2015         2201\n",
       "2022.0       1895\n",
       "2017         1783\n",
       "2014         1783\n",
       "2018         1747\n",
       "2016         1714\n",
       "2021.0       1619\n",
       "2019         1571\n",
       "2020.0       1569\n",
       "2013         1409\n",
       "2023.0       1388\n",
       "2024.0       1168\n",
       "2012          889\n",
       "2011          595\n",
       "2010          503\n",
       "2009          381\n",
       "2008          380\n",
       "2007          336\n",
       "2025.0        284\n",
       "2006          280\n",
       "2005          186\n",
       "2004          165\n",
       "2019          155\n",
       "2003          128\n",
       "Cancelled     126\n",
       "2020          113\n",
       "2002           75\n",
       "2018.0         60\n",
       "1999           52\n",
       "2001           40\n",
       "2000           40\n",
       "1998           36\n",
       "1997           29\n",
       "2016.0         18\n",
       "2015.0         16\n",
       "2017.0         13\n",
       "1996           12\n",
       "1993            5\n",
       "1994            4\n",
       "1991            2\n",
       "1995            2\n",
       "2014.0          2\n",
       "2006.0          1\n",
       "1998.0          1\n",
       "1999.0          1\n",
       "1989            1\n",
       "1992            1\n",
       "Name: count, dtype: int64"
      ]
     },
     "execution_count": 19,
     "metadata": {},
     "output_type": "execute_result"
    }
   ],
   "source": [
    "relPerYear['Released Year'].value_counts()\n"
   ]
  },
  {
   "cell_type": "code",
   "execution_count": 20,
   "id": "93973c98",
   "metadata": {},
   "outputs": [],
   "source": [
    "relPerYear['Released Year'] = pd.to_numeric(relPerYear['Released Year'], errors= 'coerce')\n",
    "relPerYear = relPerYear.dropna()\n",
    "relPerYear['Released Year'] = relPerYear['Released Year'].astype(int)"
   ]
  },
  {
   "cell_type": "code",
   "execution_count": 21,
   "id": "b6833420",
   "metadata": {},
   "outputs": [
    {
     "data": {
      "text/plain": [
       "0        2025\n",
       "1        2025\n",
       "2        2025\n",
       "3        2025\n",
       "4        2025\n",
       "         ... \n",
       "24781    2002\n",
       "24782    2001\n",
       "24783    2000\n",
       "24784    2000\n",
       "24785    2003\n",
       "Name: Released Year, Length: 24653, dtype: int64"
      ]
     },
     "execution_count": 21,
     "metadata": {},
     "output_type": "execute_result"
    }
   ],
   "source": [
    "relPerYear['Released Year']"
   ]
  },
  {
   "cell_type": "code",
   "execution_count": 22,
   "id": "30723d69",
   "metadata": {},
   "outputs": [],
   "source": [
    "groupedData = relPerYear.groupby('Released Year')['Model'].count()\n",
    "groupedData = groupedData.reset_index()\n",
    "groupedData.columns = ['Year', 'Count']\n",
    "groupedData['Count'] = pd.to_numeric(groupedData['Count'], errors='coerce')\n",
    "groupedData['Count'] = groupedData['Count'].astype(int)\n"
   ]
  },
  {
   "cell_type": "code",
   "execution_count": 23,
   "id": "54266b76",
   "metadata": {},
   "outputs": [
    {
     "data": {
      "image/png": "[encoded data removed]",
      "text/plain": [
       "<Figure size 1200x600 with 1 Axes>"
      ]
     },
     "metadata": {},
     "output_type": "display_data"
    }
   ],
   "source": [
    "plt.figure(figsize=(12,6))\n",
    "sns.barplot(data=groupedData, x='Year', y='Count')\n",
    "plt.xticks(rotation=45)\n",
    "plt.xlabel('Year', size=16, color='blue')\n",
    "plt.ylabel('Number of Devices', size=16, color='blue')\n",
    "\n",
    "plt.show()"
   ]
  },
  {
   "cell_type": "markdown",
   "id": "b45740ac",
   "metadata": {},
   "source": [
    "<span style=\"font-size:16px; font-weight: 500\"><u>2. Top 10 Brands According to number of devices released</u></span>"
   ]
  },
  {
   "cell_type": "code",
   "execution_count": 24,
   "id": "8ac00fea",
   "metadata": {},
   "outputs": [
    {
     "data": {
      "text/plain": [
       "Brand    0\n",
       "dtype: int64"
      ]
     },
     "execution_count": 24,
     "metadata": {},
     "output_type": "execute_result"
    }
   ],
   "source": [
    "topBrands = pd.DataFrame(data[['Brand']])\n",
    "topBrands.isna().sum()"
   ]
  },
  {
   "cell_type": "code",
   "execution_count": 25,
   "id": "ae37d705",
   "metadata": {},
   "outputs": [],
   "source": [
    "topBrandsGrouped = topBrands['Brand'].value_counts().reset_index()\n",
    "topBrandsGrouped.columns = ['Brand', 'Count']\n",
    "topBrandsGrouped = topBrandsGrouped.head(10)"
   ]
  },
  {
   "cell_type": "code",
   "execution_count": 26,
   "id": "784fa5c1",
   "metadata": {},
   "outputs": [
    {
     "data": {
      "image/png": "[encoded data removed]",
      "text/plain": [
       "<Figure size 1200x600 with 1 Axes>"
      ]
     },
     "metadata": {},
     "output_type": "display_data"
    }
   ],
   "source": [
    "plt.figure(figsize=(12,6))\n",
    "sns.barplot(data=topBrandsGrouped, y='Count', x = 'Brand')\n",
    "plt.show()"
   ]
  },
  {
   "cell_type": "markdown",
   "id": "3a2fb8f8",
   "metadata": {},
   "source": [
    "<span style=\"font-size:16px; font-weight: 500\"><u>3. Change in size of devices over the years</u></span>"
   ]
  },
  {
   "cell_type": "code",
   "execution_count": 27,
   "id": "6cbbe2f3",
   "metadata": {},
   "outputs": [],
   "source": [
    "smartphones = data[data['Device Category'] == 'Smartphone']\n",
    "sizeEvolution = smartphones[['Released Year', 'Width']].dropna()"
   ]
  },
  {
   "cell_type": "code",
   "execution_count": 28,
   "id": "9f997b75",
   "metadata": {},
   "outputs": [
    {
     "data": {
      "text/html": [
       "<div>\n",
       "<style scoped>\n",
       "    .dataframe tbody tr th:only-of-type {\n",
       "        vertical-align: middle;\n",
       "    }\n",
       "\n",
       "    .dataframe tbody tr th {\n",
       "        vertical-align: top;\n",
       "    }\n",
       "\n",
       "    .dataframe thead th {\n",
       "        text-align: right;\n",
       "    }\n",
       "</style>\n",
       "<table border=\"1\" class=\"dataframe\">\n",
       "  <thead>\n",
       "    <tr style=\"text-align: right;\">\n",
       "      <th></th>\n",
       "      <th>Released Year</th>\n",
       "      <th>Width</th>\n",
       "    </tr>\n",
       "  </thead>\n",
       "  <tbody>\n",
       "    <tr>\n",
       "      <th>0</th>\n",
       "      <td>2025</td>\n",
       "      <td>73.3</td>\n",
       "    </tr>\n",
       "    <tr>\n",
       "      <th>1</th>\n",
       "      <td>2025</td>\n",
       "      <td>73.3</td>\n",
       "    </tr>\n",
       "    <tr>\n",
       "      <th>2</th>\n",
       "      <td>2025</td>\n",
       "      <td>73.3</td>\n",
       "    </tr>\n",
       "    <tr>\n",
       "      <th>3</th>\n",
       "      <td>2025</td>\n",
       "      <td>73.3</td>\n",
       "    </tr>\n",
       "    <tr>\n",
       "      <th>4</th>\n",
       "      <td>2025</td>\n",
       "      <td>73.3</td>\n",
       "    </tr>\n",
       "    <tr>\n",
       "      <th>...</th>\n",
       "      <td>...</td>\n",
       "      <td>...</td>\n",
       "    </tr>\n",
       "    <tr>\n",
       "      <th>24720</th>\n",
       "      <td>2003</td>\n",
       "      <td>69.9</td>\n",
       "    </tr>\n",
       "    <tr>\n",
       "      <th>24737</th>\n",
       "      <td>2002</td>\n",
       "      <td>87.0</td>\n",
       "    </tr>\n",
       "    <tr>\n",
       "      <th>24738</th>\n",
       "      <td>2001</td>\n",
       "      <td>87.0</td>\n",
       "    </tr>\n",
       "    <tr>\n",
       "      <th>24744</th>\n",
       "      <td>2005</td>\n",
       "      <td>58.0</td>\n",
       "    </tr>\n",
       "    <tr>\n",
       "      <th>24780</th>\n",
       "      <td>2003</td>\n",
       "      <td>70.0</td>\n",
       "    </tr>\n",
       "  </tbody>\n",
       "</table>\n",
       "<p>20358 rows × 2 columns</p>\n",
       "</div>"
      ],
      "text/plain": [
       "       Released Year  Width\n",
       "0               2025   73.3\n",
       "1               2025   73.3\n",
       "2               2025   73.3\n",
       "3               2025   73.3\n",
       "4               2025   73.3\n",
       "...              ...    ...\n",
       "24720           2003   69.9\n",
       "24737           2002   87.0\n",
       "24738           2001   87.0\n",
       "24744           2005   58.0\n",
       "24780           2003   70.0\n",
       "\n",
       "[20358 rows x 2 columns]"
      ]
     },
     "execution_count": 28,
     "metadata": {},
     "output_type": "execute_result"
    }
   ],
   "source": [
    "sizeEvolution['Width'] = sizeEvolution['Width'].astype(str).str.extract(r'(\\d+\\.?\\d*)')\n",
    "sizeEvolution['Width'] = pd.to_numeric(sizeEvolution['Width'], errors='coerce')\n",
    "sizeEvolution['Released Year'] = pd.to_numeric(sizeEvolution['Released Year'], errors= 'coerce')\n",
    "sizeEvolution = sizeEvolution.dropna()\n",
    "sizeEvolution['Released Year'] = sizeEvolution['Released Year'].astype(int)\n",
    "sizeEvolution\n"
   ]
  },
  {
   "cell_type": "code",
   "execution_count": 29,
   "id": "137e3147",
   "metadata": {},
   "outputs": [
    {
     "data": {
      "text/plain": [
       "Released Year\n",
       "1996    173.000000\n",
       "1997    173.000000\n",
       "1998    131.000000\n",
       "1999    109.833333\n",
       "2000     77.428571\n",
       "2001     99.500000\n",
       "2002     85.572414\n",
       "2003     74.900000\n",
       "2004     63.425104\n",
       "2005     60.285818\n",
       "2006     58.327638\n",
       "2007     59.346911\n",
       "2008     57.920118\n",
       "2009     59.825842\n",
       "2010     65.266182\n",
       "2011     65.996667\n",
       "2012     68.526500\n",
       "2013     71.067599\n",
       "2014     72.363511\n",
       "2015     72.742497\n",
       "2016     74.018938\n",
       "2017     73.993249\n",
       "2018     74.321284\n",
       "2019     74.596410\n",
       "2020     75.051652\n",
       "2021     75.144767\n",
       "2022     74.816083\n",
       "2023     75.173846\n",
       "2024     75.389204\n",
       "2025     75.829433\n",
       "Name: Width, dtype: float64"
      ]
     },
     "execution_count": 29,
     "metadata": {},
     "output_type": "execute_result"
    }
   ],
   "source": [
    "sizeEvolutionGrouped = sizeEvolution.groupby('Released Year')['Width'].mean()\n",
    "sizeEvolutionGrouped"
   ]
  },
  {
   "cell_type": "code",
   "execution_count": 30,
   "id": "56362fa4",
   "metadata": {},
   "outputs": [
    {
     "data": {
      "image/png": "[encoded data removed]",
      "text/plain": [
       "<Figure size 1000x500 with 1 Axes>"
      ]
     },
     "metadata": {},
     "output_type": "display_data"
    }
   ],
   "source": [
    "plt.figure(figsize=(10, 5))\n",
    "plt.plot(sizeEvolutionGrouped.index, sizeEvolutionGrouped.values, marker='o')\n",
    "plt.title(\"Smartphone Width Evolution Over Years\")\n",
    "plt.xlabel('Year')\n",
    "plt.ylabel('Size (mm)')\n",
    "plt.show()\n"
   ]
  },
  {
   "cell_type": "markdown",
   "id": "c6428f09",
   "metadata": {},
   "source": [
    "<span style=\"font-size:16px; font-weight: 500\"><u>4. Device Categories</u></span>"
   ]
  },
  {
   "cell_type": "code",
   "execution_count": 31,
   "id": "3e44a4c9",
   "metadata": {},
   "outputs": [],
   "source": [
    "categories = data['Device Category'].value_counts().reset_index()\n",
    "categories.columns = ['Category', 'Count']\n",
    "categories = categories[categories['Category'] != 'Yes']"
   ]
  },
  {
   "cell_type": "code",
   "execution_count": 32,
   "id": "4fe82e1f",
   "metadata": {},
   "outputs": [
    {
     "data": {
      "text/plain": [
       "Text(0.5, 0, 'Count')"
      ]
     },
     "execution_count": 32,
     "metadata": {},
     "output_type": "execute_result"
    },
    {
     "data": {
      "image/png": "[encoded data removed]",
      "text/plain": [
       "<Figure size 800x700 with 1 Axes>"
      ]
     },
     "metadata": {},
     "output_type": "display_data"
    }
   ],
   "source": [
    "plt.figure(figsize=(8, 7))\n",
    "sns.barplot(data=categories, x = 'Count', y = 'Category')\n",
    "plt.title(\"Count per device category\",size=20)\n",
    "plt.ylabel('Category', size=16, color='blue')\n",
    "plt.xlabel('Count', size=16, color='blue')"
   ]
  },
  {
   "cell_type": "markdown",
   "id": "27fee452",
   "metadata": {},
   "source": [
    "<span style=\"font-size:16px; font-weight: 500\"><u>5. Devices Released Per Decade</u></span>"
   ]
  },
  {
   "cell_type": "code",
   "execution_count": 33,
   "id": "cefba686",
   "metadata": {},
   "outputs": [
    {
     "data": {
      "text/html": [
       "<div>\n",
       "<style scoped>\n",
       "    .dataframe tbody tr th:only-of-type {\n",
       "        vertical-align: middle;\n",
       "    }\n",
       "\n",
       "    .dataframe tbody tr th {\n",
       "        vertical-align: top;\n",
       "    }\n",
       "\n",
       "    .dataframe thead th {\n",
       "        text-align: right;\n",
       "    }\n",
       "</style>\n",
       "<table border=\"1\" class=\"dataframe\">\n",
       "  <thead>\n",
       "    <tr style=\"text-align: right;\">\n",
       "      <th></th>\n",
       "      <th>Released Year</th>\n",
       "      <th>Model</th>\n",
       "    </tr>\n",
       "  </thead>\n",
       "  <tbody>\n",
       "    <tr>\n",
       "      <th>0</th>\n",
       "      <td>2025</td>\n",
       "      <td>Pixel 9a 5G TD-LTE US 256GB GXQ96</td>\n",
       "    </tr>\n",
       "    <tr>\n",
       "      <th>1</th>\n",
       "      <td>2025</td>\n",
       "      <td>Pixel 9a 5G Global TD-LTE 256GB GTF7P</td>\n",
       "    </tr>\n",
       "    <tr>\n",
       "      <th>2</th>\n",
       "      <td>2025</td>\n",
       "      <td>Pixel 9a 5G TD-LTE 256GB JP G3Y12</td>\n",
       "    </tr>\n",
       "    <tr>\n",
       "      <th>3</th>\n",
       "      <td>2025</td>\n",
       "      <td>Pixel 9a 5G TD-LTE US 128GB GXQ96</td>\n",
       "    </tr>\n",
       "    <tr>\n",
       "      <th>4</th>\n",
       "      <td>2025</td>\n",
       "      <td>Pixel 9a 5G TD-LTE 128GB JP G3Y12</td>\n",
       "    </tr>\n",
       "  </tbody>\n",
       "</table>\n",
       "</div>"
      ],
      "text/plain": [
       "   Released Year                                  Model\n",
       "0           2025      Pixel 9a 5G TD-LTE US 256GB GXQ96\n",
       "1           2025  Pixel 9a 5G Global TD-LTE 256GB GTF7P\n",
       "2           2025      Pixel 9a 5G TD-LTE 256GB JP G3Y12\n",
       "3           2025      Pixel 9a 5G TD-LTE US 128GB GXQ96\n",
       "4           2025      Pixel 9a 5G TD-LTE 128GB JP G3Y12"
      ]
     },
     "execution_count": 33,
     "metadata": {},
     "output_type": "execute_result"
    }
   ],
   "source": [
    "decadeData = data[['Released Year', 'Model']].copy()\n",
    "decadeData['Released Year'] = pd.to_numeric(decadeData['Released Year'], errors='coerce')\n",
    "decadeData = decadeData.dropna(subset=['Released Year']).copy()\n",
    "decadeData['Released Year'] = decadeData['Released Year'].astype(int)\n",
    "decadeData.head()"
   ]
  },
  {
   "cell_type": "code",
   "execution_count": 34,
   "id": "3c11e7fb",
   "metadata": {},
   "outputs": [
    {
     "data": {
      "text/html": [
       "<div>\n",
       "<style scoped>\n",
       "    .dataframe tbody tr th:only-of-type {\n",
       "        vertical-align: middle;\n",
       "    }\n",
       "\n",
       "    .dataframe tbody tr th {\n",
       "        vertical-align: top;\n",
       "    }\n",
       "\n",
       "    .dataframe thead th {\n",
       "        text-align: right;\n",
       "    }\n",
       "</style>\n",
       "<table border=\"1\" class=\"dataframe\">\n",
       "  <thead>\n",
       "    <tr style=\"text-align: right;\">\n",
       "      <th></th>\n",
       "      <th>Decade</th>\n",
       "      <th>Count</th>\n",
       "    </tr>\n",
       "  </thead>\n",
       "  <tbody>\n",
       "    <tr>\n",
       "      <th>0</th>\n",
       "      <td>2010</td>\n",
       "      <td>14459</td>\n",
       "    </tr>\n",
       "    <tr>\n",
       "      <th>1</th>\n",
       "      <td>2020</td>\n",
       "      <td>8036</td>\n",
       "    </tr>\n",
       "    <tr>\n",
       "      <th>2</th>\n",
       "      <td>2000</td>\n",
       "      <td>2012</td>\n",
       "    </tr>\n",
       "    <tr>\n",
       "      <th>3</th>\n",
       "      <td>1990</td>\n",
       "      <td>145</td>\n",
       "    </tr>\n",
       "    <tr>\n",
       "      <th>4</th>\n",
       "      <td>1980</td>\n",
       "      <td>1</td>\n",
       "    </tr>\n",
       "  </tbody>\n",
       "</table>\n",
       "</div>"
      ],
      "text/plain": [
       "   Decade  Count\n",
       "0    2010  14459\n",
       "1    2020   8036\n",
       "2    2000   2012\n",
       "3    1990    145\n",
       "4    1980      1"
      ]
     },
     "execution_count": 34,
     "metadata": {},
     "output_type": "execute_result"
    }
   ],
   "source": [
    "decadeData['Decade'] = (decadeData['Released Year'] // 10) * 10\n",
    "decadeCount = decadeData['Decade'].value_counts().reset_index()\n",
    "decadeCount.columns = ['Decade', 'Count']\n",
    "decadeCount"
   ]
  },
  {
   "cell_type": "code",
   "execution_count": 35,
   "id": "1a50181a",
   "metadata": {},
   "outputs": [
    {
     "data": {
      "image/png": "[encoded data removed]",
      "text/plain": [
       "<Figure size 1000x600 with 1 Axes>"
      ]
     },
     "metadata": {},
     "output_type": "display_data"
    }
   ],
   "source": [
    "plt.figure(figsize=(10, 6))\n",
    "sns.barplot(data=decadeCount, x = 'Decade', y = 'Count', color='skyblue')\n",
    "plt.title('Devices Released per Decade', size=18, color = 'blue')\n",
    "plt.xlabel('Decade', size = 15, color = 'blue')\n",
    "plt.ylabel('Number of Devices', size = 15, color = 'blue')\n",
    "plt.xticks(rotation=45)\n",
    "plt.tight_layout()\n",
    "plt.show()"
   ]
  }
 ],
 "metadata": {
  "kernelspec": {
   "display_name": "Python 3",
   "language": "python",
   "name": "python3"
  },
  "language_info": {
   "codemirror_mode": {
    "name": "ipython",
    "version": 3
   },
   "file_extension": ".py",
   "mimetype": "text/x-python",
   "name": "python",
   "nbconvert_exporter": "python",
   "pygments_lexer": "ipython3",
   "version": "3.13.1"
  }
 },
 "nbformat": 4,
 "nbformat_minor": 5
}
